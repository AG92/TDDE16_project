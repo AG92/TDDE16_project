{
 "cells": [
  {
   "cell_type": "code",
   "execution_count": 1,
   "metadata": {},
   "outputs": [],
   "source": [
    "import pandas as pd\n",
    "import numpy as np"
   ]
  },
  {
   "cell_type": "raw",
   "metadata": {},
   "source": [
    "We start by loading the 380,000+ lyrics dataset. Since some data entries are bad we remove them from the dataset."
   ]
  },
  {
   "cell_type": "code",
   "execution_count": 2,
   "metadata": {},
   "outputs": [
    {
     "name": "stdout",
     "output_type": "stream",
     "text": [
      "208770\n"
     ]
    }
   ],
   "source": [
    "#Load dataset\n",
    "df = pd.read_csv('lyrics.csv', encoding = 'ISO-8859-1')\n",
    "\n",
    "#Clean data: remove newlines, NAN-values and lyrics with to low/high word count,\n",
    "#also remove the \"Not Available\" genre.\n",
    "def clean_data(df):\n",
    "    df = df.replace({'\\n': ' '}, regex=True)\n",
    "    df.dropna()\n",
    "    \n",
    "    indexNames = df[df['genre'] == \"Not Available\"].index\n",
    "    df.drop(indexNames, inplace=True)\n",
    "    \n",
    "    df['word_count'] = df['lyrics'].str.split().str.len()\n",
    "    df = df[df['word_count'] != 1]\n",
    "    df = df[df['word_count'] >= 100]\n",
    "    df = df[df['word_count'] <= 1000]   \n",
    "    return df\n",
    "\n",
    "#Now this is good data...\n",
    "df = clean_data(df)\n",
    "\n",
    "#Check contents of dataframe\n",
    "df.sample(n=10)\n",
    "print(len(df))"
   ]
  },
  {
   "cell_type": "markdown",
   "metadata": {},
   "source": [
    "Now we look more closely on the lyrics column and preprocess the string data with spacy. \n",
    "Preprocessing consists of Tokenization, stop word removal, and lemmatization of words. "
   ]
  },
  {
   "cell_type": "code",
   "execution_count": 3,
   "metadata": {},
   "outputs": [],
   "source": [
    "import spacy\n",
    "from sklearn.feature_extraction.text import TfidfVectorizer \n",
    "\n",
    "# Import only relevant modules \n",
    "nlp = spacy.load(\"en_core_web_sm\", disable=[\"tagger\", \"parser\", \"ner\"])\n",
    "\n",
    "#These words are in all lyrics\n",
    "structure_words = [\"intro\", \"verse\", \"bridge\", \"outro\"]\n",
    "\n",
    "# Tokenization, stop word removal, and lemmatization.\n",
    "def preprocess(text):\n",
    "    doc = nlp(text)\n",
    "    output = []\n",
    "    for token in doc:\n",
    "        if not token.is_stop and token.text:\n",
    "            if token.lemma_.isalpha() and token.lemma_ not in structure_words:\n",
    "                output.append(token.lemma_.lower())\n",
    "    return output"
   ]
  },
  {
   "cell_type": "markdown",
   "metadata": {},
   "source": [
    "To understand the dataset better we create some plots for visualization."
   ]
  },
  {
   "cell_type": "code",
   "execution_count": 11,
   "metadata": {},
   "outputs": [
    {
     "data": {
      "image/png": "[encoded data removed]",
      "text/plain": [
       "<Figure size 432x288 with 1 Axes>"
      ]
     },
     "metadata": {
      "needs_background": "light"
     },
     "output_type": "display_data"
    },
    {
     "data": {
      "image/png": "[encoded data removed]",
      "text/plain": [
       "<Figure size 432x288 with 1 Axes>"
      ]
     },
     "metadata": {
      "needs_background": "light"
     },
     "output_type": "display_data"
    },
    {
     "data": {
      "text/html": [
       "<div>\n",
       "<style scoped>\n",
       "    .dataframe tbody tr th:only-of-type {\n",
       "        vertical-align: middle;\n",
       "    }\n",
       "\n",
       "    .dataframe tbody tr th {\n",
       "        vertical-align: top;\n",
       "    }\n",
       "\n",
       "    .dataframe thead th {\n",
       "        text-align: right;\n",
       "    }\n",
       "</style>\n",
       "<table border=\"1\" class=\"dataframe\">\n",
       "  <thead>\n",
       "    <tr style=\"text-align: right;\">\n",
       "      <th></th>\n",
       "      <th>index</th>\n",
       "      <th>song</th>\n",
       "      <th>year</th>\n",
       "      <th>artist</th>\n",
       "      <th>genre</th>\n",
       "      <th>lyrics</th>\n",
       "      <th>word_count</th>\n",
       "    </tr>\n",
       "  </thead>\n",
       "  <tbody>\n",
       "    <tr>\n",
       "      <th>14611</th>\n",
       "      <td>14611</td>\n",
       "      <td>dreaming</td>\n",
       "      <td>2007</td>\n",
       "      <td>fools-garden</td>\n",
       "      <td>Rock</td>\n",
       "      <td>Dreaming. It's not that easy any more when you...</td>\n",
       "      <td>256.0</td>\n",
       "    </tr>\n",
       "    <tr>\n",
       "      <th>25369</th>\n",
       "      <td>25369</td>\n",
       "      <td>winds-of-change</td>\n",
       "      <td>2006</td>\n",
       "      <td>cinderella</td>\n",
       "      <td>Rock</td>\n",
       "      <td>I look into the mirror Can almost count the ye...</td>\n",
       "      <td>263.0</td>\n",
       "    </tr>\n",
       "    <tr>\n",
       "      <th>122355</th>\n",
       "      <td>122355</td>\n",
       "      <td>four-walls</td>\n",
       "      <td>2006</td>\n",
       "      <td>cheyenne-kimball</td>\n",
       "      <td>Rock</td>\n",
       "      <td>These four walls They whisper to me They know ...</td>\n",
       "      <td>139.0</td>\n",
       "    </tr>\n",
       "    <tr>\n",
       "      <th>323202</th>\n",
       "      <td>323202</td>\n",
       "      <td>louis-loon</td>\n",
       "      <td>2008</td>\n",
       "      <td>barenaked-ladies</td>\n",
       "      <td>Rock</td>\n",
       "      <td>Dive down Into the cool green water Swim aroun...</td>\n",
       "      <td>129.0</td>\n",
       "    </tr>\n",
       "    <tr>\n",
       "      <th>252814</th>\n",
       "      <td>252814</td>\n",
       "      <td>individuo</td>\n",
       "      <td>2007</td>\n",
       "      <td>breed-77</td>\n",
       "      <td>Metal</td>\n",
       "      <td>How much do you think you know? The truth hide...</td>\n",
       "      <td>126.0</td>\n",
       "    </tr>\n",
       "    <tr>\n",
       "      <th>106421</th>\n",
       "      <td>106421</td>\n",
       "      <td>don-t-ask-me-why</td>\n",
       "      <td>2006</td>\n",
       "      <td>eleanor-mcevoy</td>\n",
       "      <td>Folk</td>\n",
       "      <td>Lying here naked with me Can you see Tears tha...</td>\n",
       "      <td>119.0</td>\n",
       "    </tr>\n",
       "    <tr>\n",
       "      <th>104096</th>\n",
       "      <td>104096</td>\n",
       "      <td>this-ain-t-no-rag-it-s-a-flag</td>\n",
       "      <td>2007</td>\n",
       "      <td>charlie-daniels-band</td>\n",
       "      <td>Rock</td>\n",
       "      <td>This ain't no rag, it's a flag And we don't we...</td>\n",
       "      <td>410.0</td>\n",
       "    </tr>\n",
       "    <tr>\n",
       "      <th>91139</th>\n",
       "      <td>91139</td>\n",
       "      <td>as-country-as-she-gets</td>\n",
       "      <td>2015</td>\n",
       "      <td>dean-brody</td>\n",
       "      <td>Country</td>\n",
       "      <td>SHE HATES GOING ANYWHERE IN MY OLD TRUCK SHE S...</td>\n",
       "      <td>154.0</td>\n",
       "    </tr>\n",
       "    <tr>\n",
       "      <th>77734</th>\n",
       "      <td>77734</td>\n",
       "      <td>trail-of-blood</td>\n",
       "      <td>2007</td>\n",
       "      <td>gehenna</td>\n",
       "      <td>Metal</td>\n",
       "      <td>Strapped down to the table Unable to move Face...</td>\n",
       "      <td>115.0</td>\n",
       "    </tr>\n",
       "    <tr>\n",
       "      <th>285361</th>\n",
       "      <td>285361</td>\n",
       "      <td>dare-i-say</td>\n",
       "      <td>2006</td>\n",
       "      <td>bran-van-3000</td>\n",
       "      <td>Rock</td>\n",
       "      <td>Hey Job You sure got it figured out She loves ...</td>\n",
       "      <td>336.0</td>\n",
       "    </tr>\n",
       "  </tbody>\n",
       "</table>\n",
       "</div>"
      ],
      "text/plain": [
       "         index                           song  year                artist  \\\n",
       "14611    14611                       dreaming  2007          fools-garden   \n",
       "25369    25369                winds-of-change  2006            cinderella   \n",
       "122355  122355                     four-walls  2006      cheyenne-kimball   \n",
       "323202  323202                     louis-loon  2008      barenaked-ladies   \n",
       "252814  252814                      individuo  2007              breed-77   \n",
       "106421  106421               don-t-ask-me-why  2006        eleanor-mcevoy   \n",
       "104096  104096  this-ain-t-no-rag-it-s-a-flag  2007  charlie-daniels-band   \n",
       "91139    91139         as-country-as-she-gets  2015            dean-brody   \n",
       "77734    77734                 trail-of-blood  2007               gehenna   \n",
       "285361  285361                     dare-i-say  2006         bran-van-3000   \n",
       "\n",
       "          genre                                             lyrics  word_count  \n",
       "14611      Rock  Dreaming. It's not that easy any more when you...       256.0  \n",
       "25369      Rock  I look into the mirror Can almost count the ye...       263.0  \n",
       "122355     Rock  These four walls They whisper to me They know ...       139.0  \n",
       "323202     Rock  Dive down Into the cool green water Swim aroun...       129.0  \n",
       "252814    Metal  How much do you think you know? The truth hide...       126.0  \n",
       "106421     Folk  Lying here naked with me Can you see Tears tha...       119.0  \n",
       "104096     Rock  This ain't no rag, it's a flag And we don't we...       410.0  \n",
       "91139   Country  SHE HATES GOING ANYWHERE IN MY OLD TRUCK SHE S...       154.0  \n",
       "77734     Metal  Strapped down to the table Unable to move Face...       115.0  \n",
       "285361     Rock  Hey Job You sure got it figured out She loves ...       336.0  "
      ]
     },
     "execution_count": 11,
     "metadata": {},
     "output_type": "execute_result"
    }
   ],
   "source": [
    "import matplotlib.pyplot as plt\n",
    "\n",
    "genre_count = df['genre'].value_counts()\n",
    "year_count = df['year'].value_counts().head(12)\n",
    "\n",
    "genre_count.plot.bar()\n",
    "plt.xlabel('Genre')\n",
    "plt.ylabel('Count')\n",
    "plt.show()\n",
    "\n",
    "year_count.plot.bar()\n",
    "plt.xlabel('Year')\n",
    "plt.ylabel('Count')\n",
    "plt.show()\n",
    "\n",
    "df.sample(n=10)"
   ]
  },
  {
   "cell_type": "markdown",
   "metadata": {},
   "source": [
    "We start genre classification by dividing data into training and test datasets. "
   ]
  },
  {
   "cell_type": "code",
   "execution_count": 8,
   "metadata": {},
   "outputs": [
    {
     "name": "stdout",
     "output_type": "stream",
     "text": [
      "187893\n",
      "20877\n"
     ]
    }
   ],
   "source": [
    "from sklearn.model_selection import train_test_split\n",
    "\n",
    "#Split data into training and test datasets\n",
    "train, test = train_test_split(df, test_size=0.1)\n",
    "print(len(train))\n",
    "print(len(test))\n",
    "\n",
    "#Create a vectorizer for lyrics\n",
    "v = TfidfVectorizer(tokenizer = preprocess)\n",
    "genres = sorted(df[\"genre\"].unique())"
   ]
  },
  {
   "cell_type": "markdown",
   "metadata": {},
   "source": [
    "1) Here we implement a random baseline, that generates random predictions, where the probability of a class is determined by its relative frequency in the training data. This functionality is provided by scikit-learn’s DummyClassifier. "
   ]
  },
  {
   "cell_type": "code",
   "execution_count": 14,
   "metadata": {},
   "outputs": [
    {
     "name": "stdout",
     "output_type": "stream",
     "text": [
      "Prediction with random baseline:\n",
      "\n",
      "Generating Confusion Matrix...\n",
      "\n",
      "Classification Report\n",
      "              precision    recall  f1-score   support\n",
      "\n",
      "     Country       0.06      0.06      0.06      1274\n",
      "  Electronic       0.04      0.04      0.04       594\n",
      "        Folk       0.00      0.00      0.00       181\n",
      "     Hip-Hop       0.12      0.11      0.12      2371\n",
      "       Indie       0.01      0.01      0.01       262\n",
      "        Jazz       0.02      0.02      0.02       637\n",
      "       Metal       0.09      0.09      0.09      1801\n",
      "       Other       0.03      0.03      0.03       453\n",
      "         Pop       0.18      0.18      0.18      3747\n",
      "         R&B       0.02      0.02      0.02       323\n",
      "        Rock       0.44      0.45      0.44      9234\n",
      "\n",
      "    accuracy                           0.26     20877\n",
      "   macro avg       0.09      0.09      0.09     20877\n",
      "weighted avg       0.25      0.26      0.26     20877\n",
      "\n",
      "Accuracy on test data: 25.6%\n"
     ]
    }
   ],
   "source": [
    "from sklearn.dummy import DummyClassifier\n",
    "from sklearn.metrics import classification_report\n",
    "from sklearn.metrics import confusion_matrix\n",
    "from sklearn.metrics import accuracy_score\n",
    "\n",
    "dummy_classifier = DummyClassifier(strategy=\"stratified\")\n",
    "\n",
    "print(\"Prediction with random baseline:\\n\")\n",
    "dummy_classifier.fit(train[\"lyrics\"], train[\"genre\"]) \n",
    "predictions = dummy_classifier.predict(test[\"lyrics\"])\n",
    "\n",
    "# Confusion matrix\n",
    "print('Generating Confusion Matrix...\\n')\n",
    "conf = confusion_matrix(test[\"genre\"], predictions)\n",
    "np.savetxt(\"confusion_matrix_dummy.csv\", conf, fmt='%i', delimiter=\",\")\n",
    "\n",
    "# Classification report\n",
    "print('Classification Report')\n",
    "print(classification_report(test[\"genre\"], predictions))"
   ]
  },
  {
   "cell_type": "markdown",
   "metadata": {},
   "source": [
    "2) Here we implement classification with Logistic regression:"
   ]
  },
  {
   "cell_type": "code",
   "execution_count": 15,
   "metadata": {},
   "outputs": [
    {
     "name": "stdout",
     "output_type": "stream",
     "text": [
      "\n",
      "Prediction based on logistic regression...\n",
      "\n"
     ]
    },
    {
     "name": "stderr",
     "output_type": "stream",
     "text": [
      "/courses/TDDE16/labs/environment/lib/python3.6/site-packages/sklearn/linear_model/logistic.py:432: FutureWarning: Default solver will be changed to 'lbfgs' in 0.22. Specify a solver to silence this warning.\n",
      "  FutureWarning)\n",
      "/courses/TDDE16/labs/environment/lib/python3.6/site-packages/sklearn/linear_model/logistic.py:469: FutureWarning: Default multi_class will be changed to 'auto' in 0.22. Specify the multi_class option to silence this warning.\n",
      "  \"this warning.\", FutureWarning)\n"
     ]
    },
    {
     "name": "stdout",
     "output_type": "stream",
     "text": [
      "Generating Confusion Matrix...\n",
      "Classification Report\n",
      "              precision    recall  f1-score   support\n",
      "\n",
      "     Country       0.55      0.20      0.30      1274\n",
      "  Electronic       0.67      0.01      0.03       594\n",
      "        Folk       0.89      0.04      0.08       181\n",
      "     Hip-Hop       0.84      0.75      0.79      2371\n",
      "       Indie       1.00      0.00      0.01       262\n",
      "        Jazz       0.51      0.10      0.17       637\n",
      "       Metal       0.77      0.52      0.62      1801\n",
      "       Other       0.34      0.03      0.05       453\n",
      "         Pop       0.50      0.34      0.40      3747\n",
      "         R&B       1.00      0.03      0.05       323\n",
      "        Rock       0.58      0.89      0.70      9234\n",
      "\n",
      "    accuracy                           0.60     20877\n",
      "   macro avg       0.69      0.27      0.29     20877\n",
      "weighted avg       0.62      0.60      0.55     20877\n",
      "\n",
      "Accuracy on test data: 60.3%\n"
     ]
    }
   ],
   "source": [
    "from sklearn.pipeline import Pipeline\n",
    "from sklearn.linear_model import LogisticRegression\n",
    "\n",
    "# Choose if you want to run the classifier from here! Maybe you only want to print results,\n",
    "# it takes quite a while...\n",
    "RUN=True\n",
    "\n",
    "#Here lay the pipes\n",
    "if (RUN):\n",
    "    pipe_lr = Pipeline([('vect', v),\n",
    "                        ('clf', LogisticRegression())])\n",
    "    print(\"\\nPrediction based on logistic regression...\\n\")\n",
    "    pipe_lr.fit(train[\"lyrics\"].values.astype('U'), train[\"genre\"])\n",
    "    predictions = pipe_lr.predict(test[\"lyrics\"].values.astype('U'))\n",
    "\n",
    "# Confusion matrix\n",
    "print('Generating Confusion Matrix...')\n",
    "conf = confusion_matrix(test[\"genre\"], predictions)\n",
    "np.savetxt(\"confusion_matrix_logreg.csv\", conf, fmt='%i', delimiter=\",\")\n",
    "\n",
    "# Classification report\n",
    "print('Classification Report')\n",
    "print(classification_report(test[\"genre\"], predictions))"
   ]
  },
  {
   "cell_type": "markdown",
   "metadata": {},
   "source": [
    "3) Here we implement classification with Multinominal Naive Bayes:"
   ]
  },
  {
   "cell_type": "code",
   "execution_count": 17,
   "metadata": {},
   "outputs": [
    {
     "name": "stdout",
     "output_type": "stream",
     "text": [
      "\n",
      "Prediction based on multinominal nb...\n",
      "\n",
      "Generating Confusion Matrix...\n",
      "Classification Report\n"
     ]
    },
    {
     "name": "stderr",
     "output_type": "stream",
     "text": [
      "/courses/TDDE16/labs/environment/lib/python3.6/site-packages/sklearn/metrics/classification.py:1437: UndefinedMetricWarning: Precision and F-score are ill-defined and being set to 0.0 in labels with no predicted samples.\n",
      "  'precision', 'predicted', average, warn_for)\n"
     ]
    },
    {
     "name": "stdout",
     "output_type": "stream",
     "text": [
      "              precision    recall  f1-score   support\n",
      "\n",
      "     Country       0.00      0.00      0.00      1274\n",
      "  Electronic       0.00      0.00      0.00       594\n",
      "        Folk       0.83      0.03      0.05       181\n",
      "     Hip-Hop       0.89      0.45      0.60      2371\n",
      "       Indie       0.00      0.00      0.00       262\n",
      "        Jazz       0.00      0.00      0.00       637\n",
      "       Metal       0.98      0.05      0.09      1801\n",
      "       Other       0.00      0.00      0.00       453\n",
      "         Pop       0.42      0.13      0.19      3747\n",
      "         R&B       0.00      0.00      0.00       323\n",
      "        Rock       0.48      0.96      0.64      9234\n",
      "\n",
      "    accuracy                           0.50     20877\n",
      "   macro avg       0.33      0.15      0.14     20877\n",
      "weighted avg       0.48      0.50      0.40     20877\n",
      "\n"
     ]
    }
   ],
   "source": [
    "from sklearn.naive_bayes import MultinomialNB\n",
    "\n",
    "# Choose if you want to run the classifier from here! Maybe you only want to print results,\n",
    "# it takes quite a while...\n",
    "RUN=True\n",
    "\n",
    "#Here lay the pipes\n",
    "if (RUN):\n",
    "    pipe_mnb = Pipeline([('vect', v),\n",
    "                        ('clf', MultinomialNB())])\n",
    "    print(\"\\nPrediction based on multinominal-nb...\\n\")\n",
    "    pipe_mnb.fit(train[\"lyrics\"].values.astype('U'), train[\"genre\"])\n",
    "    predictions = pipe_mnb.predict(test[\"lyrics\"].values.astype('U'))\n",
    "\n",
    "# Confusion matrix\n",
    "print('Generating Confusion Matrix...')\n",
    "conf = confusion_matrix(test[\"genre\"], predictions)\n",
    "np.savetxt(\"confusion_matrix_mnb.csv\", conf, fmt='%i', delimiter=\",\")\n",
    "\n",
    "# Classification report\n",
    "print('Classification Report')\n",
    "print(classification_report(test[\"genre\"], predictions))"
   ]
  },
  {
   "cell_type": "markdown",
   "metadata": {},
   "source": [
    "4) Since M-nb underwhelms in terms of performance we check if we can improve the \n",
    "results with grid search for paramater tuning."
   ]
  },
  {
   "cell_type": "code",
   "execution_count": 20,
   "metadata": {},
   "outputs": [
    {
     "name": "stdout",
     "output_type": "stream",
     "text": [
      "\n",
      "Initiating grid search. This may take a while...\n",
      "\n",
      "Best Score:  0.5831297600229918\n",
      "Best Params:  {'clf__alpha': 0.1, 'vect__analyzer': 'word', 'vect__ngram_range': (1, 2)}\n",
      "\n",
      "Prediction using best parameters from grid search on mnb2:\n",
      "\n",
      "Generating Confusion Matrix...\n",
      "              precision    recall  f1-score   support\n",
      "\n",
      "     Country       0.81      0.95      0.87      1274\n",
      "  Electronic       0.97      0.76      0.85       594\n",
      "        Folk       0.70      0.63      0.66       181\n",
      "     Hip-Hop       0.97      0.87      0.92      2371\n",
      "       Indie       1.00      0.63      0.77       262\n",
      "        Jazz       0.72      0.79      0.76       637\n",
      "       Metal       0.92      0.90      0.91      1801\n",
      "       Other       0.41      0.54      0.47       453\n",
      "         Pop       0.87      0.90      0.89      3747\n",
      "         R&B       0.94      0.70      0.80       323\n",
      "        Rock       0.91      0.91      0.91      9234\n",
      "\n",
      "    accuracy                           0.88     20877\n",
      "   macro avg       0.84      0.78      0.80     20877\n",
      "weighted avg       0.89      0.88      0.88     20877\n",
      "\n"
     ]
    }
   ],
   "source": [
    "from sklearn.model_selection import GridSearchCV\n",
    "from sklearn.feature_extraction.text import CountVectorizer\n",
    "\n",
    "# Choose if you want to run the classifier from here! Maybe you only want to print results,\n",
    "# it takes A VERY long time. Do not run if you do not have much time on your hands!\n",
    "RUN=False\n",
    "\n",
    "#Here lay the pipes\n",
    "if (RUN):\n",
    "    pipe_mnb2 = Pipeline([('vect', CountVectorizer(binary=True)),\n",
    "                        ('clf', MultinomialNB())])\n",
    "\n",
    "    print(\"\\nInitiating grid search. This may take a while...\")\n",
    "    grid_params = {\n",
    "        'vect__analyzer': ['char', 'word'],\n",
    "        'vect__ngram_range': [(1, 1), (1, 2)],\n",
    "        'clf__alpha': [1, 0.1]\n",
    "        }\n",
    "\n",
    "    clf = GridSearchCV(pipe_mnb2, grid_params, cv=5)\n",
    "    clf.fit(df[\"lyrics\"], df[\"genre\"])\n",
    "    print(\"\\nBest Score: \", clf.best_score_)\n",
    "    print(\"Best Params: \", clf.best_params_)\n",
    "    # Predict\n",
    "    print(\"\\nPrediction using best parameters from grid search on mnb2:\\n\")\n",
    "    predictions = clf.predict(test[\"lyrics\"])\n",
    "\n",
    "# Confusion matrix\n",
    "print('Generating Confusion Matrix...')\n",
    "conf = confusion_matrix(test[\"genre\"], predictions)\n",
    "np.savetxt(\"confusion_matrix_mnb.csv\", conf, fmt='%i', delimiter=\",\")\n",
    "\n",
    "# Report\n",
    "print(classification_report(test[\"genre\"], predictions))"
   ]
  },
  {
   "cell_type": "markdown",
   "metadata": {},
   "source": [
    "Classification is done move on to second file for hit song correlation with topic models."
   ]
  }
 ],
 "metadata": {
  "kernelspec": {
   "display_name": "Python 3",
   "language": "python",
   "name": "python3"
  },
  "language_info": {
   "codemirror_mode": {
    "name": "ipython",
    "version": 3
   },
   "file_extension": ".py",
   "mimetype": "text/x-python",
   "name": "python",
   "nbconvert_exporter": "python",
   "pygments_lexer": "ipython3",
   "version": "3.6.8"
  }
 },
 "nbformat": 4,
 "nbformat_minor": 2
}
